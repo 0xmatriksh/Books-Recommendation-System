{
 "cells": [
  {
   "cell_type": "code",
   "execution_count": 1,
   "id": "c9bac62f",
   "metadata": {},
   "outputs": [],
   "source": [
    "import numpy as np\n",
    "import pandas as pd\n",
    "import matplotlib.pyplot as plt"
   ]
  },
  {
   "cell_type": "code",
   "execution_count": 2,
   "id": "c4333e16",
   "metadata": {},
   "outputs": [
    {
     "name": "stderr",
     "output_type": "stream",
     "text": [
      "/tmp/ipykernel_24406/378180666.py:1: DtypeWarning: Columns (3) have mixed types. Specify dtype option on import or set low_memory=False.\n",
      "  books = pd.read_csv('Books.csv')\n"
     ]
    }
   ],
   "source": [
    "books = pd.read_csv('Books.csv')\n",
    "ratings = pd.read_csv('Ratings.csv')\n",
    "users = pd.read_csv('Users.csv')"
   ]
  },
  {
   "cell_type": "code",
   "execution_count": 3,
   "id": "dce02d14",
   "metadata": {},
   "outputs": [
    {
     "data": {
      "text/html": [
       "<div>\n",
       "<style scoped>\n",
       "    .dataframe tbody tr th:only-of-type {\n",
       "        vertical-align: middle;\n",
       "    }\n",
       "\n",
       "    .dataframe tbody tr th {\n",
       "        vertical-align: top;\n",
       "    }\n",
       "\n",
       "    .dataframe thead th {\n",
       "        text-align: right;\n",
       "    }\n",
       "</style>\n",
       "<table border=\"1\" class=\"dataframe\">\n",
       "  <thead>\n",
       "    <tr style=\"text-align: right;\">\n",
       "      <th></th>\n",
       "      <th>ISBN</th>\n",
       "      <th>Book-Title</th>\n",
       "      <th>Book-Author</th>\n",
       "      <th>Year-Of-Publication</th>\n",
       "      <th>Publisher</th>\n",
       "      <th>Image-URL-S</th>\n",
       "      <th>Image-URL-M</th>\n",
       "      <th>Image-URL-L</th>\n",
       "    </tr>\n",
       "  </thead>\n",
       "  <tbody>\n",
       "    <tr>\n",
       "      <th>179661</th>\n",
       "      <td>0671724436</td>\n",
       "      <td>Cat is Watching</td>\n",
       "      <td>Roger A. Caras</td>\n",
       "      <td>1990</td>\n",
       "      <td>Fireside</td>\n",
       "      <td>http://images.amazon.com/images/P/0671724436.0...</td>\n",
       "      <td>http://images.amazon.com/images/P/0671724436.0...</td>\n",
       "      <td>http://images.amazon.com/images/P/0671724436.0...</td>\n",
       "    </tr>\n",
       "    <tr>\n",
       "      <th>43403</th>\n",
       "      <td>0394865707</td>\n",
       "      <td>The Berenstain Bears and Too Much TV (First Ti...</td>\n",
       "      <td>STAN BERENSTAIN</td>\n",
       "      <td>1984</td>\n",
       "      <td>Random House Books for Young Readers</td>\n",
       "      <td>http://images.amazon.com/images/P/0394865707.0...</td>\n",
       "      <td>http://images.amazon.com/images/P/0394865707.0...</td>\n",
       "      <td>http://images.amazon.com/images/P/0394865707.0...</td>\n",
       "    </tr>\n",
       "    <tr>\n",
       "      <th>51246</th>\n",
       "      <td>0553373153</td>\n",
       "      <td>Long Quiet Highway: Waking Up in America</td>\n",
       "      <td>Natalie Goldberg</td>\n",
       "      <td>1994</td>\n",
       "      <td>Bantam</td>\n",
       "      <td>http://images.amazon.com/images/P/0553373153.0...</td>\n",
       "      <td>http://images.amazon.com/images/P/0553373153.0...</td>\n",
       "      <td>http://images.amazon.com/images/P/0553373153.0...</td>\n",
       "    </tr>\n",
       "    <tr>\n",
       "      <th>130946</th>\n",
       "      <td>0553232878</td>\n",
       "      <td>Country Girl (Sweet Dreams Series No. 34)</td>\n",
       "      <td>Melinda Pollowitz</td>\n",
       "      <td>1983</td>\n",
       "      <td>Bantam Books</td>\n",
       "      <td>http://images.amazon.com/images/P/0553232878.0...</td>\n",
       "      <td>http://images.amazon.com/images/P/0553232878.0...</td>\n",
       "      <td>http://images.amazon.com/images/P/0553232878.0...</td>\n",
       "    </tr>\n",
       "    <tr>\n",
       "      <th>120548</th>\n",
       "      <td>0743200810</td>\n",
       "      <td>Going with the Grain: A Wandering Bread Lover ...</td>\n",
       "      <td>Susan Seligson</td>\n",
       "      <td>2002</td>\n",
       "      <td>Simon &amp;amp; Schuster</td>\n",
       "      <td>http://images.amazon.com/images/P/0743200810.0...</td>\n",
       "      <td>http://images.amazon.com/images/P/0743200810.0...</td>\n",
       "      <td>http://images.amazon.com/images/P/0743200810.0...</td>\n",
       "    </tr>\n",
       "  </tbody>\n",
       "</table>\n",
       "</div>"
      ],
      "text/plain": [
       "              ISBN                                         Book-Title  \\\n",
       "179661  0671724436                                    Cat is Watching   \n",
       "43403   0394865707  The Berenstain Bears and Too Much TV (First Ti...   \n",
       "51246   0553373153           Long Quiet Highway: Waking Up in America   \n",
       "130946  0553232878          Country Girl (Sweet Dreams Series No. 34)   \n",
       "120548  0743200810  Going with the Grain: A Wandering Bread Lover ...   \n",
       "\n",
       "              Book-Author Year-Of-Publication  \\\n",
       "179661     Roger A. Caras                1990   \n",
       "43403     STAN BERENSTAIN                1984   \n",
       "51246    Natalie Goldberg                1994   \n",
       "130946  Melinda Pollowitz                1983   \n",
       "120548     Susan Seligson                2002   \n",
       "\n",
       "                                   Publisher  \\\n",
       "179661                              Fireside   \n",
       "43403   Random House Books for Young Readers   \n",
       "51246                                 Bantam   \n",
       "130946                          Bantam Books   \n",
       "120548                  Simon &amp; Schuster   \n",
       "\n",
       "                                              Image-URL-S  \\\n",
       "179661  http://images.amazon.com/images/P/0671724436.0...   \n",
       "43403   http://images.amazon.com/images/P/0394865707.0...   \n",
       "51246   http://images.amazon.com/images/P/0553373153.0...   \n",
       "130946  http://images.amazon.com/images/P/0553232878.0...   \n",
       "120548  http://images.amazon.com/images/P/0743200810.0...   \n",
       "\n",
       "                                              Image-URL-M  \\\n",
       "179661  http://images.amazon.com/images/P/0671724436.0...   \n",
       "43403   http://images.amazon.com/images/P/0394865707.0...   \n",
       "51246   http://images.amazon.com/images/P/0553373153.0...   \n",
       "130946  http://images.amazon.com/images/P/0553232878.0...   \n",
       "120548  http://images.amazon.com/images/P/0743200810.0...   \n",
       "\n",
       "                                              Image-URL-L  \n",
       "179661  http://images.amazon.com/images/P/0671724436.0...  \n",
       "43403   http://images.amazon.com/images/P/0394865707.0...  \n",
       "51246   http://images.amazon.com/images/P/0553373153.0...  \n",
       "130946  http://images.amazon.com/images/P/0553232878.0...  \n",
       "120548  http://images.amazon.com/images/P/0743200810.0...  "
      ]
     },
     "execution_count": 3,
     "metadata": {},
     "output_type": "execute_result"
    }
   ],
   "source": [
    "books.sample(5)"
   ]
  },
  {
   "cell_type": "code",
   "execution_count": 4,
   "id": "5bd5fc9b",
   "metadata": {},
   "outputs": [
    {
     "data": {
      "text/html": [
       "<div>\n",
       "<style scoped>\n",
       "    .dataframe tbody tr th:only-of-type {\n",
       "        vertical-align: middle;\n",
       "    }\n",
       "\n",
       "    .dataframe tbody tr th {\n",
       "        vertical-align: top;\n",
       "    }\n",
       "\n",
       "    .dataframe thead th {\n",
       "        text-align: right;\n",
       "    }\n",
       "</style>\n",
       "<table border=\"1\" class=\"dataframe\">\n",
       "  <thead>\n",
       "    <tr style=\"text-align: right;\">\n",
       "      <th></th>\n",
       "      <th>User-ID</th>\n",
       "      <th>ISBN</th>\n",
       "      <th>Book-Rating</th>\n",
       "    </tr>\n",
       "  </thead>\n",
       "  <tbody>\n",
       "    <tr>\n",
       "      <th>457603</th>\n",
       "      <td>110029</td>\n",
       "      <td>0140258574</td>\n",
       "      <td>0</td>\n",
       "    </tr>\n",
       "  </tbody>\n",
       "</table>\n",
       "</div>"
      ],
      "text/plain": [
       "        User-ID        ISBN  Book-Rating\n",
       "457603   110029  0140258574            0"
      ]
     },
     "execution_count": 4,
     "metadata": {},
     "output_type": "execute_result"
    }
   ],
   "source": [
    "ratings.sample()"
   ]
  },
  {
   "cell_type": "code",
   "execution_count": 5,
   "id": "583edbca",
   "metadata": {},
   "outputs": [
    {
     "data": {
      "text/html": [
       "<div>\n",
       "<style scoped>\n",
       "    .dataframe tbody tr th:only-of-type {\n",
       "        vertical-align: middle;\n",
       "    }\n",
       "\n",
       "    .dataframe tbody tr th {\n",
       "        vertical-align: top;\n",
       "    }\n",
       "\n",
       "    .dataframe thead th {\n",
       "        text-align: right;\n",
       "    }\n",
       "</style>\n",
       "<table border=\"1\" class=\"dataframe\">\n",
       "  <thead>\n",
       "    <tr style=\"text-align: right;\">\n",
       "      <th></th>\n",
       "      <th>User-ID</th>\n",
       "      <th>Location</th>\n",
       "      <th>Age</th>\n",
       "    </tr>\n",
       "  </thead>\n",
       "  <tbody>\n",
       "    <tr>\n",
       "      <th>235400</th>\n",
       "      <td>235401</td>\n",
       "      <td>andover, hampshire, united kingdom</td>\n",
       "      <td>18.0</td>\n",
       "    </tr>\n",
       "  </tbody>\n",
       "</table>\n",
       "</div>"
      ],
      "text/plain": [
       "        User-ID                            Location   Age\n",
       "235400   235401  andover, hampshire, united kingdom  18.0"
      ]
     },
     "execution_count": 5,
     "metadata": {},
     "output_type": "execute_result"
    }
   ],
   "source": [
    "users.sample()"
   ]
  },
  {
   "cell_type": "markdown",
   "id": "1d488acf",
   "metadata": {},
   "source": [
    "## merge dataset"
   ]
  },
  {
   "cell_type": "code",
   "execution_count": 6,
   "id": "be85b357",
   "metadata": {},
   "outputs": [],
   "source": [
    "df = ratings.merge(books,on=\"ISBN\")"
   ]
  },
  {
   "cell_type": "code",
   "execution_count": 7,
   "id": "84ec5eb0",
   "metadata": {},
   "outputs": [
    {
     "data": {
      "text/html": [
       "<div>\n",
       "<style scoped>\n",
       "    .dataframe tbody tr th:only-of-type {\n",
       "        vertical-align: middle;\n",
       "    }\n",
       "\n",
       "    .dataframe tbody tr th {\n",
       "        vertical-align: top;\n",
       "    }\n",
       "\n",
       "    .dataframe thead th {\n",
       "        text-align: right;\n",
       "    }\n",
       "</style>\n",
       "<table border=\"1\" class=\"dataframe\">\n",
       "  <thead>\n",
       "    <tr style=\"text-align: right;\">\n",
       "      <th></th>\n",
       "      <th>User-ID</th>\n",
       "      <th>ISBN</th>\n",
       "      <th>Book-Rating</th>\n",
       "      <th>Book-Title</th>\n",
       "      <th>Book-Author</th>\n",
       "      <th>Year-Of-Publication</th>\n",
       "      <th>Publisher</th>\n",
       "      <th>Image-URL-S</th>\n",
       "      <th>Image-URL-M</th>\n",
       "      <th>Image-URL-L</th>\n",
       "    </tr>\n",
       "  </thead>\n",
       "  <tbody>\n",
       "    <tr>\n",
       "      <th>602297</th>\n",
       "      <td>23871</td>\n",
       "      <td>0821752286</td>\n",
       "      <td>10</td>\n",
       "      <td>Wish List</td>\n",
       "      <td>Fern Michaels</td>\n",
       "      <td>1996</td>\n",
       "      <td>Zebra Books</td>\n",
       "      <td>http://images.amazon.com/images/P/0821752286.0...</td>\n",
       "      <td>http://images.amazon.com/images/P/0821752286.0...</td>\n",
       "      <td>http://images.amazon.com/images/P/0821752286.0...</td>\n",
       "    </tr>\n",
       "  </tbody>\n",
       "</table>\n",
       "</div>"
      ],
      "text/plain": [
       "        User-ID        ISBN  Book-Rating Book-Title    Book-Author  \\\n",
       "602297    23871  0821752286           10  Wish List  Fern Michaels   \n",
       "\n",
       "       Year-Of-Publication    Publisher  \\\n",
       "602297                1996  Zebra Books   \n",
       "\n",
       "                                              Image-URL-S  \\\n",
       "602297  http://images.amazon.com/images/P/0821752286.0...   \n",
       "\n",
       "                                              Image-URL-M  \\\n",
       "602297  http://images.amazon.com/images/P/0821752286.0...   \n",
       "\n",
       "                                              Image-URL-L  \n",
       "602297  http://images.amazon.com/images/P/0821752286.0...  "
      ]
     },
     "execution_count": 7,
     "metadata": {},
     "output_type": "execute_result"
    }
   ],
   "source": [
    "df.sample()"
   ]
  },
  {
   "cell_type": "code",
   "execution_count": 8,
   "id": "3a911221",
   "metadata": {},
   "outputs": [],
   "source": [
    "counts_df = (df.groupby('Book-Title').count()['Book-Rating']).reset_index()"
   ]
  },
  {
   "cell_type": "code",
   "execution_count": 9,
   "id": "fb609d18",
   "metadata": {},
   "outputs": [],
   "source": [
    "counts_df = counts_df[counts_df['Book-Rating']>250]"
   ]
  },
  {
   "cell_type": "code",
   "execution_count": 10,
   "id": "30b7e9b2",
   "metadata": {},
   "outputs": [
    {
     "data": {
      "text/html": [
       "<div>\n",
       "<style scoped>\n",
       "    .dataframe tbody tr th:only-of-type {\n",
       "        vertical-align: middle;\n",
       "    }\n",
       "\n",
       "    .dataframe tbody tr th {\n",
       "        vertical-align: top;\n",
       "    }\n",
       "\n",
       "    .dataframe thead th {\n",
       "        text-align: right;\n",
       "    }\n",
       "</style>\n",
       "<table border=\"1\" class=\"dataframe\">\n",
       "  <thead>\n",
       "    <tr style=\"text-align: right;\">\n",
       "      <th></th>\n",
       "      <th>Book-Title</th>\n",
       "      <th>Book-Rating</th>\n",
       "    </tr>\n",
       "  </thead>\n",
       "  <tbody>\n",
       "    <tr>\n",
       "      <th>764</th>\n",
       "      <td>1984</td>\n",
       "      <td>284</td>\n",
       "    </tr>\n",
       "    <tr>\n",
       "      <th>818</th>\n",
       "      <td>1st to Die: A Novel</td>\n",
       "      <td>509</td>\n",
       "    </tr>\n",
       "    <tr>\n",
       "      <th>1048</th>\n",
       "      <td>2nd Chance</td>\n",
       "      <td>356</td>\n",
       "    </tr>\n",
       "    <tr>\n",
       "      <th>1760</th>\n",
       "      <td>A Bend in the Road</td>\n",
       "      <td>346</td>\n",
       "    </tr>\n",
       "    <tr>\n",
       "      <th>2281</th>\n",
       "      <td>A Child Called \\It\\\": One Child's Courage to S...</td>\n",
       "      <td>265</td>\n",
       "    </tr>\n",
       "  </tbody>\n",
       "</table>\n",
       "</div>"
      ],
      "text/plain": [
       "                                             Book-Title  Book-Rating\n",
       "764                                                1984          284\n",
       "818                                 1st to Die: A Novel          509\n",
       "1048                                         2nd Chance          356\n",
       "1760                                 A Bend in the Road          346\n",
       "2281  A Child Called \\It\\\": One Child's Courage to S...          265"
      ]
     },
     "execution_count": 10,
     "metadata": {},
     "output_type": "execute_result"
    }
   ],
   "source": [
    "counts_df.head()"
   ]
  },
  {
   "cell_type": "code",
   "execution_count": 11,
   "id": "8fcdcfb8",
   "metadata": {},
   "outputs": [],
   "source": [
    "books_df = df.merge(counts_df,on='Book-Title')"
   ]
  },
  {
   "cell_type": "code",
   "execution_count": 12,
   "id": "27d10b81",
   "metadata": {},
   "outputs": [],
   "source": [
    "new_rating = (books_df.groupby('Book-Title')['Book-Rating_x'].mean()).reset_index()"
   ]
  },
  {
   "cell_type": "code",
   "execution_count": 13,
   "id": "6ab0acf0",
   "metadata": {},
   "outputs": [
    {
     "data": {
      "text/html": [
       "<div>\n",
       "<style scoped>\n",
       "    .dataframe tbody tr th:only-of-type {\n",
       "        vertical-align: middle;\n",
       "    }\n",
       "\n",
       "    .dataframe tbody tr th {\n",
       "        vertical-align: top;\n",
       "    }\n",
       "\n",
       "    .dataframe thead th {\n",
       "        text-align: right;\n",
       "    }\n",
       "</style>\n",
       "<table border=\"1\" class=\"dataframe\">\n",
       "  <thead>\n",
       "    <tr style=\"text-align: right;\">\n",
       "      <th></th>\n",
       "      <th>Book-Title</th>\n",
       "      <th>Book-Rating_x</th>\n",
       "    </tr>\n",
       "  </thead>\n",
       "  <tbody>\n",
       "    <tr>\n",
       "      <th>0</th>\n",
       "      <td>1984</td>\n",
       "      <td>4.454225</td>\n",
       "    </tr>\n",
       "    <tr>\n",
       "      <th>1</th>\n",
       "      <td>1st to Die: A Novel</td>\n",
       "      <td>3.575639</td>\n",
       "    </tr>\n",
       "    <tr>\n",
       "      <th>2</th>\n",
       "      <td>2nd Chance</td>\n",
       "      <td>3.269663</td>\n",
       "    </tr>\n",
       "    <tr>\n",
       "      <th>3</th>\n",
       "      <td>A Bend in the Road</td>\n",
       "      <td>3.364162</td>\n",
       "    </tr>\n",
       "    <tr>\n",
       "      <th>4</th>\n",
       "      <td>A Child Called \\It\\\": One Child's Courage to S...</td>\n",
       "      <td>4.086792</td>\n",
       "    </tr>\n",
       "  </tbody>\n",
       "</table>\n",
       "</div>"
      ],
      "text/plain": [
       "                                          Book-Title  Book-Rating_x\n",
       "0                                               1984       4.454225\n",
       "1                                1st to Die: A Novel       3.575639\n",
       "2                                         2nd Chance       3.269663\n",
       "3                                 A Bend in the Road       3.364162\n",
       "4  A Child Called \\It\\\": One Child's Courage to S...       4.086792"
      ]
     },
     "execution_count": 13,
     "metadata": {},
     "output_type": "execute_result"
    }
   ],
   "source": [
    "new_rating.head()"
   ]
  },
  {
   "cell_type": "code",
   "execution_count": 14,
   "id": "1fef5c97",
   "metadata": {},
   "outputs": [],
   "source": [
    "new_books_df = counts_df.merge(new_rating,on='Book-Title')"
   ]
  },
  {
   "cell_type": "code",
   "execution_count": 15,
   "id": "1a0db6dd",
   "metadata": {},
   "outputs": [],
   "source": [
    "new_books_df = new_books_df.rename(columns={'Book-Rating':'Num-Of-Rating','Book-Rating_x':'Book-Rating'})"
   ]
  },
  {
   "cell_type": "code",
   "execution_count": 16,
   "id": "5867751d",
   "metadata": {},
   "outputs": [],
   "source": [
    "popular = new_books_df.sort_values('Book-Rating',ascending=False)"
   ]
  },
  {
   "cell_type": "code",
   "execution_count": 17,
   "id": "ffc26abd",
   "metadata": {},
   "outputs": [],
   "source": [
    "popular = popular.merge(books,on='Book-Title')[['Book-Title','Book-Author','Num-Of-Rating','Book-Rating','Image-URL-M']]"
   ]
  },
  {
   "cell_type": "code",
   "execution_count": 18,
   "id": "1a78aec8",
   "metadata": {},
   "outputs": [],
   "source": [
    "popular = popular.drop_duplicates(['Book-Title'])"
   ]
  },
  {
   "cell_type": "code",
   "execution_count": 19,
   "id": "a16d7cbe",
   "metadata": {},
   "outputs": [
    {
     "data": {
      "text/html": [
       "<div>\n",
       "<style scoped>\n",
       "    .dataframe tbody tr th:only-of-type {\n",
       "        vertical-align: middle;\n",
       "    }\n",
       "\n",
       "    .dataframe tbody tr th {\n",
       "        vertical-align: top;\n",
       "    }\n",
       "\n",
       "    .dataframe thead th {\n",
       "        text-align: right;\n",
       "    }\n",
       "</style>\n",
       "<table border=\"1\" class=\"dataframe\">\n",
       "  <thead>\n",
       "    <tr style=\"text-align: right;\">\n",
       "      <th></th>\n",
       "      <th>index</th>\n",
       "      <th>Book-Title</th>\n",
       "      <th>Book-Author</th>\n",
       "      <th>Num-Of-Rating</th>\n",
       "      <th>Book-Rating</th>\n",
       "      <th>Image-URL-M</th>\n",
       "    </tr>\n",
       "  </thead>\n",
       "  <tbody>\n",
       "    <tr>\n",
       "      <th>0</th>\n",
       "      <td>0</td>\n",
       "      <td>Harry Potter and the Prisoner of Azkaban (Book 3)</td>\n",
       "      <td>J. K. Rowling</td>\n",
       "      <td>428</td>\n",
       "      <td>5.852804</td>\n",
       "      <td>http://images.amazon.com/images/P/0439136350.0...</td>\n",
       "    </tr>\n",
       "    <tr>\n",
       "      <th>1</th>\n",
       "      <td>3</td>\n",
       "      <td>Harry Potter and the Goblet of Fire (Book 4)</td>\n",
       "      <td>J. K. Rowling</td>\n",
       "      <td>387</td>\n",
       "      <td>5.824289</td>\n",
       "      <td>http://images.amazon.com/images/P/0439139597.0...</td>\n",
       "    </tr>\n",
       "    <tr>\n",
       "      <th>2</th>\n",
       "      <td>5</td>\n",
       "      <td>Harry Potter and the Sorcerer's Stone (Book 1)</td>\n",
       "      <td>J. K. Rowling</td>\n",
       "      <td>278</td>\n",
       "      <td>5.737410</td>\n",
       "      <td>http://images.amazon.com/images/P/0590353403.0...</td>\n",
       "    </tr>\n",
       "    <tr>\n",
       "      <th>3</th>\n",
       "      <td>9</td>\n",
       "      <td>Harry Potter and the Order of the Phoenix (Boo...</td>\n",
       "      <td>J. K. Rowling</td>\n",
       "      <td>347</td>\n",
       "      <td>5.501441</td>\n",
       "      <td>http://images.amazon.com/images/P/043935806X.0...</td>\n",
       "    </tr>\n",
       "    <tr>\n",
       "      <th>4</th>\n",
       "      <td>13</td>\n",
       "      <td>Harry Potter and the Chamber of Secrets (Book 2)</td>\n",
       "      <td>J. K. Rowling</td>\n",
       "      <td>556</td>\n",
       "      <td>5.183453</td>\n",
       "      <td>http://images.amazon.com/images/P/0439064872.0...</td>\n",
       "    </tr>\n",
       "    <tr>\n",
       "      <th>...</th>\n",
       "      <td>...</td>\n",
       "      <td>...</td>\n",
       "      <td>...</td>\n",
       "      <td>...</td>\n",
       "      <td>...</td>\n",
       "      <td>...</td>\n",
       "    </tr>\n",
       "    <tr>\n",
       "      <th>181</th>\n",
       "      <td>716</td>\n",
       "      <td>Vinegar Hill (Oprah's Book Club (Paperback))</td>\n",
       "      <td>A. Manette Ansay</td>\n",
       "      <td>265</td>\n",
       "      <td>2.245283</td>\n",
       "      <td>http://images.amazon.com/images/P/0380730138.0...</td>\n",
       "    </tr>\n",
       "    <tr>\n",
       "      <th>182</th>\n",
       "      <td>717</td>\n",
       "      <td>Whispers</td>\n",
       "      <td>BELVA PLAIN</td>\n",
       "      <td>286</td>\n",
       "      <td>2.199301</td>\n",
       "      <td>http://images.amazon.com/images/P/0440216745.0...</td>\n",
       "    </tr>\n",
       "    <tr>\n",
       "      <th>183</th>\n",
       "      <td>727</td>\n",
       "      <td>Presumed Innocent</td>\n",
       "      <td>Scott Turow</td>\n",
       "      <td>294</td>\n",
       "      <td>2.139456</td>\n",
       "      <td>http://images.amazon.com/images/P/0446359866.0...</td>\n",
       "    </tr>\n",
       "    <tr>\n",
       "      <th>184</th>\n",
       "      <td>733</td>\n",
       "      <td>Isle of Dogs</td>\n",
       "      <td>Patricia Cornwell</td>\n",
       "      <td>288</td>\n",
       "      <td>2.000000</td>\n",
       "      <td>http://images.amazon.com/images/P/0425182908.0...</td>\n",
       "    </tr>\n",
       "    <tr>\n",
       "      <th>185</th>\n",
       "      <td>739</td>\n",
       "      <td>Wild Animus</td>\n",
       "      <td>Rich Shapero</td>\n",
       "      <td>2502</td>\n",
       "      <td>1.019584</td>\n",
       "      <td>http://images.amazon.com/images/P/0971880107.0...</td>\n",
       "    </tr>\n",
       "  </tbody>\n",
       "</table>\n",
       "<p>186 rows × 6 columns</p>\n",
       "</div>"
      ],
      "text/plain": [
       "     index                                         Book-Title  \\\n",
       "0        0  Harry Potter and the Prisoner of Azkaban (Book 3)   \n",
       "1        3       Harry Potter and the Goblet of Fire (Book 4)   \n",
       "2        5     Harry Potter and the Sorcerer's Stone (Book 1)   \n",
       "3        9  Harry Potter and the Order of the Phoenix (Boo...   \n",
       "4       13   Harry Potter and the Chamber of Secrets (Book 2)   \n",
       "..     ...                                                ...   \n",
       "181    716       Vinegar Hill (Oprah's Book Club (Paperback))   \n",
       "182    717                                           Whispers   \n",
       "183    727                                  Presumed Innocent   \n",
       "184    733                                       Isle of Dogs   \n",
       "185    739                                        Wild Animus   \n",
       "\n",
       "           Book-Author  Num-Of-Rating  Book-Rating  \\\n",
       "0        J. K. Rowling            428     5.852804   \n",
       "1        J. K. Rowling            387     5.824289   \n",
       "2        J. K. Rowling            278     5.737410   \n",
       "3        J. K. Rowling            347     5.501441   \n",
       "4        J. K. Rowling            556     5.183453   \n",
       "..                 ...            ...          ...   \n",
       "181   A. Manette Ansay            265     2.245283   \n",
       "182        BELVA PLAIN            286     2.199301   \n",
       "183        Scott Turow            294     2.139456   \n",
       "184  Patricia Cornwell            288     2.000000   \n",
       "185       Rich Shapero           2502     1.019584   \n",
       "\n",
       "                                           Image-URL-M  \n",
       "0    http://images.amazon.com/images/P/0439136350.0...  \n",
       "1    http://images.amazon.com/images/P/0439139597.0...  \n",
       "2    http://images.amazon.com/images/P/0590353403.0...  \n",
       "3    http://images.amazon.com/images/P/043935806X.0...  \n",
       "4    http://images.amazon.com/images/P/0439064872.0...  \n",
       "..                                                 ...  \n",
       "181  http://images.amazon.com/images/P/0380730138.0...  \n",
       "182  http://images.amazon.com/images/P/0440216745.0...  \n",
       "183  http://images.amazon.com/images/P/0446359866.0...  \n",
       "184  http://images.amazon.com/images/P/0425182908.0...  \n",
       "185  http://images.amazon.com/images/P/0971880107.0...  \n",
       "\n",
       "[186 rows x 6 columns]"
      ]
     },
     "execution_count": 19,
     "metadata": {},
     "output_type": "execute_result"
    }
   ],
   "source": [
    "popular.reset_index()"
   ]
  },
  {
   "cell_type": "code",
   "execution_count": 20,
   "id": "22a6abd9",
   "metadata": {},
   "outputs": [],
   "source": [
    "top_fifty = popular.head(50)"
   ]
  },
  {
   "cell_type": "code",
   "execution_count": 23,
   "id": "4fefa3fb",
   "metadata": {},
   "outputs": [],
   "source": [
    "random_fifty = top_fifty.sample(50)"
   ]
  },
  {
   "cell_type": "code",
   "execution_count": 25,
   "id": "a6a5f396",
   "metadata": {},
   "outputs": [],
   "source": [
    "random_fifty.to_csv('av_books.csv')"
   ]
  },
  {
   "cell_type": "code",
   "execution_count": null,
   "id": "f89193bd",
   "metadata": {},
   "outputs": [],
   "source": []
  }
 ],
 "metadata": {
  "kernelspec": {
   "display_name": "Python 3 (ipykernel)",
   "language": "python",
   "name": "python3"
  },
  "language_info": {
   "codemirror_mode": {
    "name": "ipython",
    "version": 3
   },
   "file_extension": ".py",
   "mimetype": "text/x-python",
   "name": "python",
   "nbconvert_exporter": "python",
   "pygments_lexer": "ipython3",
   "version": "3.10.4"
  }
 },
 "nbformat": 4,
 "nbformat_minor": 5
}
