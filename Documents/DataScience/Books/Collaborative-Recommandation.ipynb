{
 "cells": [
  {
   "cell_type": "code",
   "execution_count": 1,
   "id": "a0777aea",
   "metadata": {},
   "outputs": [],
   "source": [
    "import numpy as np\n",
    "import pandas as pd"
   ]
  },
  {
   "cell_type": "code",
   "execution_count": 2,
   "id": "14f859d7",
   "metadata": {},
   "outputs": [
    {
     "name": "stderr",
     "output_type": "stream",
     "text": [
      "/tmp/ipykernel_6958/378180666.py:1: DtypeWarning: Columns (3) have mixed types. Specify dtype option on import or set low_memory=False.\n",
      "  books = pd.read_csv('Books.csv')\n"
     ]
    }
   ],
   "source": [
    "books = pd.read_csv('Books.csv')\n",
    "ratings = pd.read_csv('Ratings.csv')\n",
    "users = pd.read_csv('Users.csv')"
   ]
  },
  {
   "cell_type": "code",
   "execution_count": 3,
   "id": "0a4b6c2c",
   "metadata": {},
   "outputs": [
    {
     "data": {
      "text/html": [
       "<div>\n",
       "<style scoped>\n",
       "    .dataframe tbody tr th:only-of-type {\n",
       "        vertical-align: middle;\n",
       "    }\n",
       "\n",
       "    .dataframe tbody tr th {\n",
       "        vertical-align: top;\n",
       "    }\n",
       "\n",
       "    .dataframe thead th {\n",
       "        text-align: right;\n",
       "    }\n",
       "</style>\n",
       "<table border=\"1\" class=\"dataframe\">\n",
       "  <thead>\n",
       "    <tr style=\"text-align: right;\">\n",
       "      <th></th>\n",
       "      <th>ISBN</th>\n",
       "      <th>Book-Title</th>\n",
       "      <th>Book-Author</th>\n",
       "      <th>Year-Of-Publication</th>\n",
       "      <th>Publisher</th>\n",
       "      <th>Image-URL-S</th>\n",
       "      <th>Image-URL-M</th>\n",
       "      <th>Image-URL-L</th>\n",
       "    </tr>\n",
       "  </thead>\n",
       "  <tbody>\n",
       "    <tr>\n",
       "      <th>196874</th>\n",
       "      <td>0525933662</td>\n",
       "      <td>The Judas Kiss</td>\n",
       "      <td>Norman Katkov</td>\n",
       "      <td>1991</td>\n",
       "      <td>Penguin USA</td>\n",
       "      <td>http://images.amazon.com/images/P/0525933662.0...</td>\n",
       "      <td>http://images.amazon.com/images/P/0525933662.0...</td>\n",
       "      <td>http://images.amazon.com/images/P/0525933662.0...</td>\n",
       "    </tr>\n",
       "  </tbody>\n",
       "</table>\n",
       "</div>"
      ],
      "text/plain": [
       "              ISBN      Book-Title    Book-Author Year-Of-Publication  \\\n",
       "196874  0525933662  The Judas Kiss  Norman Katkov                1991   \n",
       "\n",
       "          Publisher                                        Image-URL-S  \\\n",
       "196874  Penguin USA  http://images.amazon.com/images/P/0525933662.0...   \n",
       "\n",
       "                                              Image-URL-M  \\\n",
       "196874  http://images.amazon.com/images/P/0525933662.0...   \n",
       "\n",
       "                                              Image-URL-L  \n",
       "196874  http://images.amazon.com/images/P/0525933662.0...  "
      ]
     },
     "execution_count": 3,
     "metadata": {},
     "output_type": "execute_result"
    }
   ],
   "source": [
    "books.sample()"
   ]
  },
  {
   "cell_type": "code",
   "execution_count": 4,
   "id": "203b0b86",
   "metadata": {},
   "outputs": [
    {
     "data": {
      "text/html": [
       "<div>\n",
       "<style scoped>\n",
       "    .dataframe tbody tr th:only-of-type {\n",
       "        vertical-align: middle;\n",
       "    }\n",
       "\n",
       "    .dataframe tbody tr th {\n",
       "        vertical-align: top;\n",
       "    }\n",
       "\n",
       "    .dataframe thead th {\n",
       "        text-align: right;\n",
       "    }\n",
       "</style>\n",
       "<table border=\"1\" class=\"dataframe\">\n",
       "  <thead>\n",
       "    <tr style=\"text-align: right;\">\n",
       "      <th></th>\n",
       "      <th>User-ID</th>\n",
       "      <th>ISBN</th>\n",
       "      <th>Book-Rating</th>\n",
       "    </tr>\n",
       "  </thead>\n",
       "  <tbody>\n",
       "    <tr>\n",
       "      <th>660643</th>\n",
       "      <td>160408</td>\n",
       "      <td>3442545668</td>\n",
       "      <td>0</td>\n",
       "    </tr>\n",
       "  </tbody>\n",
       "</table>\n",
       "</div>"
      ],
      "text/plain": [
       "        User-ID        ISBN  Book-Rating\n",
       "660643   160408  3442545668            0"
      ]
     },
     "execution_count": 4,
     "metadata": {},
     "output_type": "execute_result"
    }
   ],
   "source": [
    "ratings.sample()"
   ]
  },
  {
   "cell_type": "code",
   "execution_count": 5,
   "id": "7d4f8755",
   "metadata": {},
   "outputs": [
    {
     "data": {
      "text/html": [
       "<div>\n",
       "<style scoped>\n",
       "    .dataframe tbody tr th:only-of-type {\n",
       "        vertical-align: middle;\n",
       "    }\n",
       "\n",
       "    .dataframe tbody tr th {\n",
       "        vertical-align: top;\n",
       "    }\n",
       "\n",
       "    .dataframe thead th {\n",
       "        text-align: right;\n",
       "    }\n",
       "</style>\n",
       "<table border=\"1\" class=\"dataframe\">\n",
       "  <thead>\n",
       "    <tr style=\"text-align: right;\">\n",
       "      <th></th>\n",
       "      <th>User-ID</th>\n",
       "      <th>Location</th>\n",
       "      <th>Age</th>\n",
       "    </tr>\n",
       "  </thead>\n",
       "  <tbody>\n",
       "    <tr>\n",
       "      <th>88000</th>\n",
       "      <td>88001</td>\n",
       "      <td>duluth, georgia, usa</td>\n",
       "      <td>47.0</td>\n",
       "    </tr>\n",
       "  </tbody>\n",
       "</table>\n",
       "</div>"
      ],
      "text/plain": [
       "       User-ID              Location   Age\n",
       "88000    88001  duluth, georgia, usa  47.0"
      ]
     },
     "execution_count": 5,
     "metadata": {},
     "output_type": "execute_result"
    }
   ],
   "source": [
    "users.sample()"
   ]
  },
  {
   "cell_type": "code",
   "execution_count": 6,
   "id": "ba35c726",
   "metadata": {},
   "outputs": [],
   "source": [
    "books_rating = books.merge(ratings,on='ISBN')"
   ]
  },
  {
   "cell_type": "code",
   "execution_count": 7,
   "id": "d3357275",
   "metadata": {},
   "outputs": [],
   "source": [
    "n_books =(books_rating.groupby('Book-Title').count()['Book-Rating']).reset_index()"
   ]
  },
  {
   "cell_type": "code",
   "execution_count": 8,
   "id": "b28cc745",
   "metadata": {},
   "outputs": [],
   "source": [
    "n_books = n_books[n_books['Book-Rating']>150]"
   ]
  },
  {
   "cell_type": "markdown",
   "id": "0e970518",
   "metadata": {},
   "source": [
    "## Extracting Users with minimum 50 rated books"
   ]
  },
  {
   "cell_type": "code",
   "execution_count": 9,
   "id": "0c2bfdab",
   "metadata": {},
   "outputs": [],
   "source": [
    "users_rating = users.merge(books_rating,on='User-ID')"
   ]
  },
  {
   "cell_type": "code",
   "execution_count": 10,
   "id": "91ff77a3",
   "metadata": {},
   "outputs": [],
   "source": [
    "n_users = users_rating.groupby('User-ID').count()['Book-Rating'].reset_index()"
   ]
  },
  {
   "cell_type": "code",
   "execution_count": 11,
   "id": "0230beb1",
   "metadata": {},
   "outputs": [],
   "source": [
    "n_users = n_users[n_users['Book-Rating']>200]"
   ]
  },
  {
   "cell_type": "code",
   "execution_count": 12,
   "id": "ba13f157",
   "metadata": {},
   "outputs": [],
   "source": [
    "sel_users = users_rating[users_rating['User-ID'].isin(n_users['User-ID'].values)]"
   ]
  },
  {
   "cell_type": "code",
   "execution_count": 13,
   "id": "407a97ae",
   "metadata": {},
   "outputs": [],
   "source": [
    "data = sel_users[sel_users['Book-Title'].isin(n_books['Book-Title'].values)]"
   ]
  },
  {
   "cell_type": "code",
   "execution_count": 14,
   "id": "9f39bc2d",
   "metadata": {},
   "outputs": [
    {
     "data": {
      "text/html": [
       "<div>\n",
       "<style scoped>\n",
       "    .dataframe tbody tr th:only-of-type {\n",
       "        vertical-align: middle;\n",
       "    }\n",
       "\n",
       "    .dataframe tbody tr th {\n",
       "        vertical-align: top;\n",
       "    }\n",
       "\n",
       "    .dataframe thead th {\n",
       "        text-align: right;\n",
       "    }\n",
       "</style>\n",
       "<table border=\"1\" class=\"dataframe\">\n",
       "  <thead>\n",
       "    <tr style=\"text-align: right;\">\n",
       "      <th></th>\n",
       "      <th>User-ID</th>\n",
       "      <th>Location</th>\n",
       "      <th>Age</th>\n",
       "      <th>ISBN</th>\n",
       "      <th>Book-Title</th>\n",
       "      <th>Book-Author</th>\n",
       "      <th>Year-Of-Publication</th>\n",
       "      <th>Publisher</th>\n",
       "      <th>Image-URL-S</th>\n",
       "      <th>Image-URL-M</th>\n",
       "      <th>Image-URL-L</th>\n",
       "      <th>Book-Rating</th>\n",
       "    </tr>\n",
       "  </thead>\n",
       "  <tbody>\n",
       "    <tr>\n",
       "      <th>383</th>\n",
       "      <td>254</td>\n",
       "      <td>minneapolis, minnesota, usa</td>\n",
       "      <td>24.0</td>\n",
       "      <td>0451524934</td>\n",
       "      <td>1984</td>\n",
       "      <td>George Orwell</td>\n",
       "      <td>1990</td>\n",
       "      <td>Signet Book</td>\n",
       "      <td>http://images.amazon.com/images/P/0451524934.0...</td>\n",
       "      <td>http://images.amazon.com/images/P/0451524934.0...</td>\n",
       "      <td>http://images.amazon.com/images/P/0451524934.0...</td>\n",
       "      <td>9</td>\n",
       "    </tr>\n",
       "    <tr>\n",
       "      <th>18977</th>\n",
       "      <td>7346</td>\n",
       "      <td>sunnyvale, california, usa</td>\n",
       "      <td>49.0</td>\n",
       "      <td>0451519841</td>\n",
       "      <td>1984</td>\n",
       "      <td>George Orwell</td>\n",
       "      <td>1980</td>\n",
       "      <td>New Amer Library</td>\n",
       "      <td>http://images.amazon.com/images/P/0451519841.0...</td>\n",
       "      <td>http://images.amazon.com/images/P/0451519841.0...</td>\n",
       "      <td>http://images.amazon.com/images/P/0451519841.0...</td>\n",
       "      <td>8</td>\n",
       "    </tr>\n",
       "    <tr>\n",
       "      <th>32033</th>\n",
       "      <td>11676</td>\n",
       "      <td>n/a, n/a, n/a</td>\n",
       "      <td>NaN</td>\n",
       "      <td>0451524934</td>\n",
       "      <td>1984</td>\n",
       "      <td>George Orwell</td>\n",
       "      <td>1990</td>\n",
       "      <td>Signet Book</td>\n",
       "      <td>http://images.amazon.com/images/P/0451524934.0...</td>\n",
       "      <td>http://images.amazon.com/images/P/0451524934.0...</td>\n",
       "      <td>http://images.amazon.com/images/P/0451524934.0...</td>\n",
       "      <td>0</td>\n",
       "    </tr>\n",
       "    <tr>\n",
       "      <th>33317</th>\n",
       "      <td>11676</td>\n",
       "      <td>n/a, n/a, n/a</td>\n",
       "      <td>NaN</td>\n",
       "      <td>0451519841</td>\n",
       "      <td>1984</td>\n",
       "      <td>George Orwell</td>\n",
       "      <td>1980</td>\n",
       "      <td>New Amer Library</td>\n",
       "      <td>http://images.amazon.com/images/P/0451519841.0...</td>\n",
       "      <td>http://images.amazon.com/images/P/0451519841.0...</td>\n",
       "      <td>http://images.amazon.com/images/P/0451519841.0...</td>\n",
       "      <td>0</td>\n",
       "    </tr>\n",
       "    <tr>\n",
       "      <th>34022</th>\n",
       "      <td>11676</td>\n",
       "      <td>n/a, n/a, n/a</td>\n",
       "      <td>NaN</td>\n",
       "      <td>0452262933</td>\n",
       "      <td>1984</td>\n",
       "      <td>George Orwell</td>\n",
       "      <td>1983</td>\n",
       "      <td>Plume Books</td>\n",
       "      <td>http://images.amazon.com/images/P/0452262933.0...</td>\n",
       "      <td>http://images.amazon.com/images/P/0452262933.0...</td>\n",
       "      <td>http://images.amazon.com/images/P/0452262933.0...</td>\n",
       "      <td>10</td>\n",
       "    </tr>\n",
       "    <tr>\n",
       "      <th>...</th>\n",
       "      <td>...</td>\n",
       "      <td>...</td>\n",
       "      <td>...</td>\n",
       "      <td>...</td>\n",
       "      <td>...</td>\n",
       "      <td>...</td>\n",
       "      <td>...</td>\n",
       "      <td>...</td>\n",
       "      <td>...</td>\n",
       "      <td>...</td>\n",
       "      <td>...</td>\n",
       "      <td>...</td>\n",
       "    </tr>\n",
       "    <tr>\n",
       "      <th>961381</th>\n",
       "      <td>258534</td>\n",
       "      <td>mcqueeney, texas, usa</td>\n",
       "      <td>32.0</td>\n",
       "      <td>0451524934</td>\n",
       "      <td>1984</td>\n",
       "      <td>George Orwell</td>\n",
       "      <td>1990</td>\n",
       "      <td>Signet Book</td>\n",
       "      <td>http://images.amazon.com/images/P/0451524934.0...</td>\n",
       "      <td>http://images.amazon.com/images/P/0451524934.0...</td>\n",
       "      <td>http://images.amazon.com/images/P/0451524934.0...</td>\n",
       "      <td>0</td>\n",
       "    </tr>\n",
       "    <tr>\n",
       "      <th>968104</th>\n",
       "      <td>260897</td>\n",
       "      <td>chicago, illinois, usa</td>\n",
       "      <td>25.0</td>\n",
       "      <td>0452262933</td>\n",
       "      <td>1984</td>\n",
       "      <td>George Orwell</td>\n",
       "      <td>1983</td>\n",
       "      <td>Plume Books</td>\n",
       "      <td>http://images.amazon.com/images/P/0452262933.0...</td>\n",
       "      <td>http://images.amazon.com/images/P/0452262933.0...</td>\n",
       "      <td>http://images.amazon.com/images/P/0452262933.0...</td>\n",
       "      <td>0</td>\n",
       "    </tr>\n",
       "    <tr>\n",
       "      <th>989095</th>\n",
       "      <td>266753</td>\n",
       "      <td>oakland, california, usa</td>\n",
       "      <td>NaN</td>\n",
       "      <td>0451524934</td>\n",
       "      <td>1984</td>\n",
       "      <td>George Orwell</td>\n",
       "      <td>1990</td>\n",
       "      <td>Signet Book</td>\n",
       "      <td>http://images.amazon.com/images/P/0451524934.0...</td>\n",
       "      <td>http://images.amazon.com/images/P/0451524934.0...</td>\n",
       "      <td>http://images.amazon.com/images/P/0451524934.0...</td>\n",
       "      <td>0</td>\n",
       "    </tr>\n",
       "    <tr>\n",
       "      <th>1008034</th>\n",
       "      <td>271705</td>\n",
       "      <td>atlanta, georgia, usa</td>\n",
       "      <td>25.0</td>\n",
       "      <td>0451524934</td>\n",
       "      <td>1984</td>\n",
       "      <td>George Orwell</td>\n",
       "      <td>1990</td>\n",
       "      <td>Signet Book</td>\n",
       "      <td>http://images.amazon.com/images/P/0451524934.0...</td>\n",
       "      <td>http://images.amazon.com/images/P/0451524934.0...</td>\n",
       "      <td>http://images.amazon.com/images/P/0451524934.0...</td>\n",
       "      <td>10</td>\n",
       "    </tr>\n",
       "    <tr>\n",
       "      <th>1019680</th>\n",
       "      <td>275970</td>\n",
       "      <td>pittsburgh, pennsylvania, usa</td>\n",
       "      <td>46.0</td>\n",
       "      <td>0451524934</td>\n",
       "      <td>1984</td>\n",
       "      <td>George Orwell</td>\n",
       "      <td>1990</td>\n",
       "      <td>Signet Book</td>\n",
       "      <td>http://images.amazon.com/images/P/0451524934.0...</td>\n",
       "      <td>http://images.amazon.com/images/P/0451524934.0...</td>\n",
       "      <td>http://images.amazon.com/images/P/0451524934.0...</td>\n",
       "      <td>0</td>\n",
       "    </tr>\n",
       "  </tbody>\n",
       "</table>\n",
       "<p>70 rows × 12 columns</p>\n",
       "</div>"
      ],
      "text/plain": [
       "         User-ID                       Location   Age        ISBN Book-Title  \\\n",
       "383          254    minneapolis, minnesota, usa  24.0  0451524934       1984   \n",
       "18977       7346     sunnyvale, california, usa  49.0  0451519841       1984   \n",
       "32033      11676                  n/a, n/a, n/a   NaN  0451524934       1984   \n",
       "33317      11676                  n/a, n/a, n/a   NaN  0451519841       1984   \n",
       "34022      11676                  n/a, n/a, n/a   NaN  0452262933       1984   \n",
       "...          ...                            ...   ...         ...        ...   \n",
       "961381    258534          mcqueeney, texas, usa  32.0  0451524934       1984   \n",
       "968104    260897         chicago, illinois, usa  25.0  0452262933       1984   \n",
       "989095    266753       oakland, california, usa   NaN  0451524934       1984   \n",
       "1008034   271705          atlanta, georgia, usa  25.0  0451524934       1984   \n",
       "1019680   275970  pittsburgh, pennsylvania, usa  46.0  0451524934       1984   \n",
       "\n",
       "           Book-Author Year-Of-Publication         Publisher  \\\n",
       "383      George Orwell                1990       Signet Book   \n",
       "18977    George Orwell                1980  New Amer Library   \n",
       "32033    George Orwell                1990       Signet Book   \n",
       "33317    George Orwell                1980  New Amer Library   \n",
       "34022    George Orwell                1983       Plume Books   \n",
       "...                ...                 ...               ...   \n",
       "961381   George Orwell                1990       Signet Book   \n",
       "968104   George Orwell                1983       Plume Books   \n",
       "989095   George Orwell                1990       Signet Book   \n",
       "1008034  George Orwell                1990       Signet Book   \n",
       "1019680  George Orwell                1990       Signet Book   \n",
       "\n",
       "                                               Image-URL-S  \\\n",
       "383      http://images.amazon.com/images/P/0451524934.0...   \n",
       "18977    http://images.amazon.com/images/P/0451519841.0...   \n",
       "32033    http://images.amazon.com/images/P/0451524934.0...   \n",
       "33317    http://images.amazon.com/images/P/0451519841.0...   \n",
       "34022    http://images.amazon.com/images/P/0452262933.0...   \n",
       "...                                                    ...   \n",
       "961381   http://images.amazon.com/images/P/0451524934.0...   \n",
       "968104   http://images.amazon.com/images/P/0452262933.0...   \n",
       "989095   http://images.amazon.com/images/P/0451524934.0...   \n",
       "1008034  http://images.amazon.com/images/P/0451524934.0...   \n",
       "1019680  http://images.amazon.com/images/P/0451524934.0...   \n",
       "\n",
       "                                               Image-URL-M  \\\n",
       "383      http://images.amazon.com/images/P/0451524934.0...   \n",
       "18977    http://images.amazon.com/images/P/0451519841.0...   \n",
       "32033    http://images.amazon.com/images/P/0451524934.0...   \n",
       "33317    http://images.amazon.com/images/P/0451519841.0...   \n",
       "34022    http://images.amazon.com/images/P/0452262933.0...   \n",
       "...                                                    ...   \n",
       "961381   http://images.amazon.com/images/P/0451524934.0...   \n",
       "968104   http://images.amazon.com/images/P/0452262933.0...   \n",
       "989095   http://images.amazon.com/images/P/0451524934.0...   \n",
       "1008034  http://images.amazon.com/images/P/0451524934.0...   \n",
       "1019680  http://images.amazon.com/images/P/0451524934.0...   \n",
       "\n",
       "                                               Image-URL-L  Book-Rating  \n",
       "383      http://images.amazon.com/images/P/0451524934.0...            9  \n",
       "18977    http://images.amazon.com/images/P/0451519841.0...            8  \n",
       "32033    http://images.amazon.com/images/P/0451524934.0...            0  \n",
       "33317    http://images.amazon.com/images/P/0451519841.0...            0  \n",
       "34022    http://images.amazon.com/images/P/0452262933.0...           10  \n",
       "...                                                    ...          ...  \n",
       "961381   http://images.amazon.com/images/P/0451524934.0...            0  \n",
       "968104   http://images.amazon.com/images/P/0452262933.0...            0  \n",
       "989095   http://images.amazon.com/images/P/0451524934.0...            0  \n",
       "1008034  http://images.amazon.com/images/P/0451524934.0...           10  \n",
       "1019680  http://images.amazon.com/images/P/0451524934.0...            0  \n",
       "\n",
       "[70 rows x 12 columns]"
      ]
     },
     "execution_count": 14,
     "metadata": {},
     "output_type": "execute_result"
    }
   ],
   "source": [
    "data[data['Book-Title']=='1984']"
   ]
  },
  {
   "cell_type": "code",
   "execution_count": 15,
   "id": "00c35d3f",
   "metadata": {},
   "outputs": [],
   "source": [
    "pt = data.pivot_table(index='Book-Title',columns='User-ID',values='Book-Rating')"
   ]
  },
  {
   "cell_type": "code",
   "execution_count": 16,
   "id": "61eab226",
   "metadata": {},
   "outputs": [],
   "source": [
    "pt = pt.fillna(0)"
   ]
  },
  {
   "cell_type": "code",
   "execution_count": 17,
   "id": "2ecad442",
   "metadata": {},
   "outputs": [],
   "source": [
    "from sklearn.metrics.pairwise import cosine_similarity"
   ]
  },
  {
   "cell_type": "code",
   "execution_count": 18,
   "id": "487837ab",
   "metadata": {},
   "outputs": [],
   "source": [
    "recoms_df = cosine_similarity(pt)"
   ]
  },
  {
   "cell_type": "code",
   "execution_count": 19,
   "id": "7b8186c6",
   "metadata": {},
   "outputs": [],
   "source": [
    "index = np.where(pt.index=='1984')[0][0]"
   ]
  },
  {
   "cell_type": "code",
   "execution_count": 20,
   "id": "f056a987",
   "metadata": {},
   "outputs": [
    {
     "data": {
      "text/plain": [
       "[(38, 0.2702651417103732),\n",
       " (364, 0.26396193711234966),\n",
       " (291, 0.23967698903671683),\n",
       " (63, 0.2366937434740099),\n",
       " (435, 0.23299389358170397)]"
      ]
     },
     "execution_count": 20,
     "metadata": {},
     "output_type": "execute_result"
    }
   ],
   "source": [
    "sorted(list(enumerate(recoms_df[0])),key=lambda x: x[1],reverse=True)[1:6]"
   ]
  },
  {
   "cell_type": "code",
   "execution_count": 21,
   "id": "eafb43d5",
   "metadata": {},
   "outputs": [],
   "source": [
    "num = list(enumerate(recoms_df[0]))"
   ]
  },
  {
   "cell_type": "code",
   "execution_count": 37,
   "id": "304bab99",
   "metadata": {},
   "outputs": [],
   "source": [
    "data = []\n",
    "def recommend(movie_name):\n",
    "    index = np.where(pt.index==movie_name)[0][0]\n",
    "    movies_ind = sorted(list(enumerate(recoms_df[index])),key=lambda x: x[1],reverse=True)[1:6]\n",
    "    for i in movies_ind:\n",
    "        \n",
    "        item = []\n",
    "        temp_df = books[books['Book-Title'] == pt.index[i[0]]]\n",
    "        item.extend(temp_df.drop_duplicates('Book-Title')['Book-Title'].values)\n",
    "        item.extend(temp_df.drop_duplicates('Book-Title')['Book-Author'].values)\n",
    "        item.extend(temp_df.drop_duplicates('Book-Title')['Image-URL-M'].values)\n",
    "        data.append(item)\n",
    "        \n",
    "    print(data)        "
   ]
  },
  {
   "cell_type": "code",
   "execution_count": 38,
   "id": "baeacf57",
   "metadata": {},
   "outputs": [
    {
     "name": "stdout",
     "output_type": "stream",
     "text": [
      "[['Animal Farm', 'George Orwell', 'http://images.amazon.com/images/P/0451526341.01.MZZZZZZZ.jpg'], [\"The Handmaid's Tale\", 'Margaret Atwood', 'http://images.amazon.com/images/P/0449212602.01.MZZZZZZZ.jpg'], [\"Slaughterhouse Five or the Children's Crusade: A Duty Dance With Death\", 'Kurt Vonnegut', 'http://images.amazon.com/images/P/0440180295.01.MZZZZZZZ.jpg'], ['Brave New World', 'Aldous Huxley', 'http://images.amazon.com/images/P/0060809833.01.MZZZZZZZ.jpg'], ['The Vampire Lestat (Vampire Chronicles, Book II)', 'ANNE RICE', 'http://images.amazon.com/images/P/0345313860.01.MZZZZZZZ.jpg']]\n"
     ]
    }
   ],
   "source": [
    "recommend('1984')"
   ]
  },
  {
   "cell_type": "code",
   "execution_count": 35,
   "id": "64ab5b58",
   "metadata": {},
   "outputs": [],
   "source": [
    "import pickle"
   ]
  },
  {
   "cell_type": "code",
   "execution_count": 41,
   "id": "bb86a636",
   "metadata": {},
   "outputs": [],
   "source": [
    "pickle.dump(pt,open('pt.pkl','wb'))\n",
    "pickle.dump(books,open('books.pkl','wb'))\n",
    "pickle.dump(recoms_df,open('recoms.pkl','wb'))"
   ]
  },
  {
   "cell_type": "code",
   "execution_count": null,
   "id": "93c24ec8",
   "metadata": {},
   "outputs": [],
   "source": []
  }
 ],
 "metadata": {
  "kernelspec": {
   "display_name": "Python 3 (ipykernel)",
   "language": "python",
   "name": "python3"
  },
  "language_info": {
   "codemirror_mode": {
    "name": "ipython",
    "version": 3
   },
   "file_extension": ".py",
   "mimetype": "text/x-python",
   "name": "python",
   "nbconvert_exporter": "python",
   "pygments_lexer": "ipython3",
   "version": "3.10.4"
  }
 },
 "nbformat": 4,
 "nbformat_minor": 5
}
